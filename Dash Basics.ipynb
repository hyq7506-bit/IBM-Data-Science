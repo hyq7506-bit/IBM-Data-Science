{
 "cells": [
  {
   "cell_type": "markdown",
   "id": "503a00bc-1e44-4438-9feb-8d8696953e67",
   "metadata": {},
   "source": [
    "# Creating Dash Application\n",
    "# Dash Basics: HTML and Core Components"
   ]
  },
  {
   "cell_type": "markdown",
   "id": "c98387eb-33b9-45f9-a36f-40c524738c31",
   "metadata": {},
   "source": [
    "## Dash1: Airline Dashboard\n",
    "### Goal\n",
    "Create a dashboard that displays the percentage of flights running under specific distance group. Distance group is the distance intervals, every 250 miles, for flight segment. If the flight covers to 500 miles, it will be under distance group 2 (250 miles + 250 miles).\n"
   ]
  },
  {
   "cell_type": "markdown",
   "id": "33811e59-47d6-4b30-a501-1af5eec29f81",
   "metadata": {},
   "source": [
    "## Expected Output\n",
    "Below is the expected result from the lab. Our dashboard application consists of three components:\n",
    "\n",
    "- Title of the application\n",
    "- Description of the application\n",
    "- Chart conveying the proportion of distance group by month"
   ]
  },
  {
   "cell_type": "code",
   "execution_count": 5,
   "id": "0f5230ae-fa32-4557-aadd-b27136ebb88c",
   "metadata": {},
   "outputs": [
    {
     "name": "stdout",
     "output_type": "stream",
     "text": [
      "Collecting dash\n",
      "  Downloading dash-3.2.0-py3-none-any.whl.metadata (10 kB)\n",
      "Requirement already satisfied: Flask<3.2,>=1.0.4 in /opt/anaconda3/lib/python3.12/site-packages (from dash) (3.0.3)\n",
      "Requirement already satisfied: Werkzeug<3.2 in /opt/anaconda3/lib/python3.12/site-packages (from dash) (3.0.3)\n",
      "Requirement already satisfied: plotly>=5.0.0 in /opt/anaconda3/lib/python3.12/site-packages (from dash) (5.22.0)\n",
      "Requirement already satisfied: importlib-metadata in /opt/anaconda3/lib/python3.12/site-packages (from dash) (7.0.1)\n",
      "Requirement already satisfied: typing-extensions>=4.1.1 in /opt/anaconda3/lib/python3.12/site-packages (from dash) (4.11.0)\n",
      "Requirement already satisfied: requests in /opt/anaconda3/lib/python3.12/site-packages (from dash) (2.32.2)\n",
      "Collecting retrying (from dash)\n",
      "  Downloading retrying-1.4.2-py3-none-any.whl.metadata (5.5 kB)\n",
      "Requirement already satisfied: nest-asyncio in /opt/anaconda3/lib/python3.12/site-packages (from dash) (1.6.0)\n",
      "Requirement already satisfied: setuptools in /opt/anaconda3/lib/python3.12/site-packages (from dash) (69.5.1)\n",
      "Requirement already satisfied: Jinja2>=3.1.2 in /opt/anaconda3/lib/python3.12/site-packages (from Flask<3.2,>=1.0.4->dash) (3.1.4)\n",
      "Requirement already satisfied: itsdangerous>=2.1.2 in /opt/anaconda3/lib/python3.12/site-packages (from Flask<3.2,>=1.0.4->dash) (2.2.0)\n",
      "Requirement already satisfied: click>=8.1.3 in /opt/anaconda3/lib/python3.12/site-packages (from Flask<3.2,>=1.0.4->dash) (8.1.7)\n",
      "Requirement already satisfied: blinker>=1.6.2 in /opt/anaconda3/lib/python3.12/site-packages (from Flask<3.2,>=1.0.4->dash) (1.6.2)\n",
      "Requirement already satisfied: tenacity>=6.2.0 in /opt/anaconda3/lib/python3.12/site-packages (from plotly>=5.0.0->dash) (8.2.2)\n",
      "Requirement already satisfied: packaging in /opt/anaconda3/lib/python3.12/site-packages (from plotly>=5.0.0->dash) (23.2)\n",
      "Requirement already satisfied: MarkupSafe>=2.1.1 in /opt/anaconda3/lib/python3.12/site-packages (from Werkzeug<3.2->dash) (2.1.3)\n",
      "Requirement already satisfied: zipp>=0.5 in /opt/anaconda3/lib/python3.12/site-packages (from importlib-metadata->dash) (3.17.0)\n",
      "Requirement already satisfied: charset-normalizer<4,>=2 in /opt/anaconda3/lib/python3.12/site-packages (from requests->dash) (2.0.4)\n",
      "Requirement already satisfied: idna<4,>=2.5 in /opt/anaconda3/lib/python3.12/site-packages (from requests->dash) (3.7)\n",
      "Requirement already satisfied: urllib3<3,>=1.21.1 in /opt/anaconda3/lib/python3.12/site-packages (from requests->dash) (2.2.2)\n",
      "Requirement already satisfied: certifi>=2017.4.17 in /opt/anaconda3/lib/python3.12/site-packages (from requests->dash) (2024.7.4)\n",
      "Downloading dash-3.2.0-py3-none-any.whl (7.9 MB)\n",
      "\u001b[2K   \u001b[90m━━━━━━━━━━━━━━━━━━━━━━━━━━━━━━━━━━━━━━━━\u001b[0m \u001b[32m7.9/7.9 MB\u001b[0m \u001b[31m152.1 kB/s\u001b[0m eta \u001b[36m0:00:00\u001b[0m00:01\u001b[0m00:02\u001b[0m\n",
      "\u001b[?25hDownloading retrying-1.4.2-py3-none-any.whl (10 kB)\n",
      "Installing collected packages: retrying, dash\n",
      "Successfully installed dash-3.2.0 retrying-1.4.2\n"
     ]
    }
   ],
   "source": [
    "!pip install dash"
   ]
  },
  {
   "cell_type": "markdown",
   "id": "de199c64-7b61-40de-8e15-29c5c4d3c5d6",
   "metadata": {},
   "source": [
    "## Data Preparation"
   ]
  },
  {
   "cell_type": "code",
   "execution_count": 1,
   "id": "6d0aa9da-5fd8-4655-bd31-ac69f0273e8a",
   "metadata": {},
   "outputs": [],
   "source": [
    "# Import required packages\n",
    "import pandas as pd\n",
    "import plotly.express as px\n",
    "import dash\n",
    "from dash import dcc\n",
    "from dash import html\n",
    "\n",
    "# Read the airline data into pandas dataframe\n",
    "airline_data =  pd.read_csv('https://cf-courses-data.s3.us.cloud-object-storage.appdomain.cloud/IBMDeveloperSkillsNetwork-DV0101EN-SkillsNetwork/Data%20Files/airline_data.csv', \n",
    "                            encoding = \"ISO-8859-1\",\n",
    "                            dtype={'Div1Airport': str, 'Div1TailNum': str, \n",
    "                                   'Div2Airport': str, 'Div2TailNum': str})\n",
    "\n",
    "# Randomly sample 500 data points. Setting the random state to be 42 so that we get same result.\n",
    "data = airline_data.sample(n=500, random_state=42)\n",
    "\n",
    "# Pie Chart Creation\n",
    "fig = px.pie(data, values='Flights', names='DistanceGroup', title='Distance group proportion by flights')"
   ]
  },
  {
   "cell_type": "markdown",
   "id": "6d6ad602-3dc9-4aa8-813a-7bc066f45345",
   "metadata": {},
   "source": [
    "## Create dash application and get the layout skeleton\n",
    "Next, we create a skeleton for our dash application. Our dashboard application has three components as seen before:\n",
    "\n",
    "- Title of the application\n",
    "- Description of the application\n",
    "- Chart conveying the proportion of distance group by month\n",
    "  \n",
    "Mapping to the respective Dash HTML tags:\n",
    "\n",
    "- Title added using html.H1() tag\n",
    "- Description added using html.P() tag\n",
    "- Chart added using dcc.Graph() tag"
   ]
  },
  {
   "cell_type": "code",
   "execution_count": 3,
   "id": "48c87b94-2a4e-4754-ba0d-27eeed6435eb",
   "metadata": {},
   "outputs": [
    {
     "data": {
      "text/html": [
       "\n",
       "        <iframe\n",
       "            width=\"100%\"\n",
       "            height=\"650\"\n",
       "            src=\"http://127.0.0.1:8050/\"\n",
       "            frameborder=\"0\"\n",
       "            allowfullscreen\n",
       "            \n",
       "        ></iframe>\n",
       "        "
      ],
      "text/plain": [
       "<IPython.lib.display.IFrame at 0x1407eac30>"
      ]
     },
     "metadata": {},
     "output_type": "display_data"
    }
   ],
   "source": [
    "# Create a dash application\n",
    "app = dash.Dash(__name__)\n",
    "\n",
    "# Get the layout of the application and adjust it.\n",
    "# Create an outer division using html.Div and add title to the dashboard using html.H1 component\n",
    "# Add description about the graph using HTML P (paragraph) component\n",
    "# Finally, add graph component.\n",
    "app.layout = html.Div(children=[html.H1('Airline Dashboard',\n",
    "                                        style={'textAlign': 'center', \n",
    "                                               'color': '#503D36', \n",
    "                                               'font-size': 40}),\n",
    "                                html.P('Proportion of distance group (250 mile distance interval group) by flights.', \n",
    "                                       style={'textAlign':'center', \n",
    "                                              'color': '#F57241'}),\n",
    "                                dcc.Graph(figure=fig),\n",
    "                                               \n",
    "                    ])\n",
    "\n",
    "# Run the application                   \n",
    "if __name__ == '__main__':\n",
    "    app.run()"
   ]
  },
  {
   "cell_type": "markdown",
   "id": "b9fd05b2-addf-4bc5-bcd6-e8ca101a7a01",
   "metadata": {},
   "source": [
    "Use *JupyterDash* to Preview, Then Present in Browser"
   ]
  },
  {
   "cell_type": "markdown",
   "id": "75b1ffef-0707-4c55-aecc-0c7b6d37eca2",
   "metadata": {},
   "source": [
    "## To present your Dash dashboard cleanly"
   ]
  },
  {
   "cell_type": "code",
   "execution_count": 5,
   "id": "d3df9469-759a-41cc-8122-e65aac843ec5",
   "metadata": {},
   "outputs": [
    {
     "data": {
      "text/html": [
       "\n",
       "        <iframe\n",
       "            width=\"100%\"\n",
       "            height=\"650\"\n",
       "            src=\"http://127.0.0.1:8050/\"\n",
       "            frameborder=\"0\"\n",
       "            allowfullscreen\n",
       "            \n",
       "        ></iframe>\n",
       "        "
      ],
      "text/plain": [
       "<IPython.lib.display.IFrame at 0x1501db710>"
      ]
     },
     "metadata": {},
     "output_type": "display_data"
    }
   ],
   "source": [
    "app = dash.Dash(__name__)\n",
    "app.layout = html.Div([\n",
    "    html.H1('Airline Dashboard', style={'textAlign': 'center', 'color': '#5D3036', 'font-size': 40}),\n",
    "    html.P('Proportion of distance group (250 mile distance interval group) by flights.',\n",
    "           style={'textAlign': 'center', 'color': '#F57241'}),\n",
    "    dcc.Graph(figure=fig)\n",
    "])\n",
    "\n",
    "# Run Dash app (launches in browser)\n",
    "app.run(debug=True, use_reloader=False, host='127.0.0.1', port=8050)"
   ]
  },
  {
   "cell_type": "markdown",
   "id": "22e75041-12b7-4494-88f5-31652fdc26ca",
   "metadata": {},
   "source": [
    "Manually open this link in browser:\n",
    "http://127.0.0.1:8050"
   ]
  },
  {
   "cell_type": "code",
   "execution_count": null,
   "id": "1f502d67-c39e-4590-8f74-4e183822b025",
   "metadata": {},
   "outputs": [],
   "source": []
  },
  {
   "cell_type": "markdown",
   "id": "0218a21f-b977-4dd2-a1fa-27a45a2f522d",
   "metadata": {},
   "source": [
    "## Dash2: Airline Performance Dashboard\n",
    "### Goal\n",
    "Extract the average monthly arrival delay time and see how it changes over the year. The year range is from 2010 to 2020.\n",
    "\n",
    "## Expected Output\n",
    "Below is the expected result from the lab. Our dashboard application consists of three components:\n",
    "\n",
    "- Title of the application\n",
    "- Component to enter input year\n",
    "- Chart conveying the average monthly arrival delay"
   ]
  },
  {
   "cell_type": "code",
   "execution_count": 7,
   "id": "052d8c01-5891-41e9-87b9-f8a6fa2b370b",
   "metadata": {},
   "outputs": [],
   "source": [
    "# Import required libraries\n",
    "import pandas as pd\n",
    "import plotly.graph_objects as go\n",
    "import dash\n",
    "from dash import dcc\n",
    "from dash import html\n",
    "from dash.dependencies import Input, Output"
   ]
  },
  {
   "cell_type": "code",
   "execution_count": null,
   "id": "60b3f940-755e-44c4-aca9-0d09d5082aca",
   "metadata": {},
   "outputs": [],
   "source": [
    "# Read the airline data into the pandas dataframe\n",
    "airline_data =  pd.read_csv('https://cf-courses-data.s3.us.cloud-object-storage.appdomain.cloud/IBMDeveloperSkillsNetwork-DV0101EN-SkillsNetwork/Data%20Files/airline_data.csv', \n",
    "                            encoding = \"ISO-8859-1\",\n",
    "                            dtype={'Div1Airport': str, 'Div1TailNum': str, \n",
    "                                   'Div2Airport': str, 'Div2TailNum': str})"
   ]
  },
  {
   "cell_type": "markdown",
   "id": "01301c2e-85af-4d47-8e67-c4de05ff71ae",
   "metadata": {},
   "source": [
    "### Create dash application and get the layout\n",
    "- First we will define an application **app.layout**.\n",
    "\n",
    "- Create a heading using **html.h1()** and add style information within the divison **html.Div()**.\n",
    "\n",
    "- create a inner division using **html.Div()** function for adding input and output components such as:\n",
    "    - Input: **label**, dropdown **input-year** and style parameters\n",
    "    - Output: type of Graph **line-plot**"
   ]
  },
  {
   "cell_type": "code",
   "execution_count": 9,
   "id": "3e80b9ae-dbdd-4a43-9997-32ef20efb2a7",
   "metadata": {},
   "outputs": [],
   "source": [
    "# Create a dash application\n",
    "app = dash.Dash(__name__)\n",
    "\n",
    "# Get the layout of the application and adjust it.\n",
    "# Create an outer division using html.Div and add title to the dashboard using html.H1 component\n",
    "# Add a html.Div and core input text component\n",
    "# Finally, add graph component.\n",
    "app.layout = html.Div(children=[html.H1('Airline Performance Dashboard',\n",
    "                                        style={'textAlign': 'center', 'color': '#503D36', 'font-size': 40}),\n",
    "                                html.Div([\"Input Year: \", dcc.Input(id='input-year', value='2010', \n",
    "                                                                    type='number', style={'height':'50px', 'font-size': 35}),],\n",
    "                                         style={'font-size': 40}),\n",
    "                                html.Br(),\n",
    "                                html.Br(),\n",
    "                                html.Div(dcc.Graph(id='line-plot')),\n",
    "                               ])"
   ]
  },
  {
   "cell_type": "code",
   "execution_count": 11,
   "id": "9bd92d10-edcc-4b6c-b3e8-eafa7103bc5b",
   "metadata": {},
   "outputs": [
    {
     "data": {
      "text/html": [
       "\n",
       "        <iframe\n",
       "            width=\"100%\"\n",
       "            height=\"650\"\n",
       "            src=\"http://127.0.0.1:8050/\"\n",
       "            frameborder=\"0\"\n",
       "            allowfullscreen\n",
       "            \n",
       "        ></iframe>\n",
       "        "
      ],
      "text/plain": [
       "<IPython.lib.display.IFrame at 0x130183bc0>"
      ]
     },
     "metadata": {},
     "output_type": "display_data"
    }
   ],
   "source": [
    "# Run the app\n",
    "if __name__ == '__main__':\n",
    "    app.run()"
   ]
  },
  {
   "cell_type": "markdown",
   "id": "0a9627d7-21b8-4d60-81dc-04425af11352",
   "metadata": {},
   "source": [
    "### Add the application callback function\n",
    "The core idea of this application is to get year as **user input**(input function) and update the dashboard(output function) in real-time with the help of **callback** function.\n",
    "\n",
    "Steps:\n",
    "\n",
    "- Define the callback decorator\n",
    "- Define the callback function that uses the input provided to perform the computation\n",
    "- Create graph and return it as an output"
   ]
  },
  {
   "cell_type": "code",
   "execution_count": 14,
   "id": "f3c9dc81-57af-435f-8077-88ffa2c74b12",
   "metadata": {},
   "outputs": [
    {
     "data": {
      "text/html": [
       "\n",
       "        <iframe\n",
       "            width=\"100%\"\n",
       "            height=\"650\"\n",
       "            src=\"http://127.0.0.1:8050/\"\n",
       "            frameborder=\"0\"\n",
       "            allowfullscreen\n",
       "            \n",
       "        ></iframe>\n",
       "        "
      ],
      "text/plain": [
       "<IPython.lib.display.IFrame at 0x130183bc0>"
      ]
     },
     "metadata": {},
     "output_type": "display_data"
    }
   ],
   "source": [
    "# add callback decorator\n",
    "@app.callback( Output(component_id='line-plot', component_property='figure'),\n",
    "               Input(component_id='input-year', component_property='value'))\n",
    "\n",
    "# Add computation to callback function and return graph\n",
    "def get_graph(entered_year):\n",
    "    # Select 2019 data\n",
    "    df =  airline_data[airline_data['Year']==int(entered_year)]\n",
    "    \n",
    "    # Group the data by Month and compute average over arrival delay time.\n",
    "    line_data = df.groupby('Month')['ArrDelay'].mean().reset_index()\n",
    "\n",
    "    fig = go.Figure(data=go.Scatter(x=line_data['Month'], y=line_data['ArrDelay'], mode='lines', marker=dict(color='green')))\n",
    "    fig.update_layout(title='Month vs Average Flight Delay Time', xaxis_title='Month', yaxis_title='ArrDelay')\n",
    "    return fig\n",
    "\n",
    "# Run the app\n",
    "if __name__ == '__main__':\n",
    "    app.run()"
   ]
  },
  {
   "cell_type": "markdown",
   "id": "aa2650e3-87b4-42c2-8232-c49723e7ad9c",
   "metadata": {},
   "source": []
  },
  {
   "cell_type": "markdown",
   "id": "4aaa6cf2-4f62-41be-aabe-52876ccfb2b5",
   "metadata": {},
   "source": [
    "## Dash 3: Flight Delay Time Statistics Dashboard\n",
    "### Dashboard Components\n",
    "- Monthly average carrier delay by reporting airline for the given year.\n",
    "- Monthly average weather delay by reporting airline for the given year.\n",
    "- Monthly average national air system delay by reporting airline for the given year.\n",
    "- Monthly average security delay by reporting airline for the given year.\n",
    "- Monthly average late aircraft delay by reporting airline for the given year."
   ]
  },
  {
   "cell_type": "code",
   "execution_count": 30,
   "id": "81d81a7b-8055-4ca4-ad74-34a2830ea23d",
   "metadata": {},
   "outputs": [],
   "source": [
    "# Import required libraries\n",
    "import pandas as pd\n",
    "import dash\n",
    "from dash import dcc\n",
    "from dash import html\n",
    "from dash.dependencies import Input, Output\n",
    "import plotly.express as px"
   ]
  },
  {
   "cell_type": "code",
   "execution_count": null,
   "id": "9453abe8-8fc8-47eb-8a6d-1181c885e1be",
   "metadata": {},
   "outputs": [],
   "source": [
    "# Read the airline data into pandas dataframe\n",
    "airline_data =  pd.read_csv('https://cf-courses-data.s3.us.cloud-object-storage.appdomain.cloud/IBMDeveloperSkillsNetwork-DV0101EN-SkillsNetwork/Data%20Files/airline_data.csv', \n",
    "                            encoding = \"ISO-8859-1\",\n",
    "                            dtype={'Div1Airport': str, 'Div1TailNum': str, \n",
    "                                   'Div2Airport': str, 'Div2TailNum': str})"
   ]
  },
  {
   "cell_type": "markdown",
   "id": "75ac70b2-5b41-4137-a09a-519633b3320a",
   "metadata": {},
   "source": [
    "### Create dash application and get the layout skeleton\n",
    "Our dashboard application layout has three components as seen before:\n",
    "\n",
    "- Title of the application\n",
    "- Component to enter input year inside a layout division\n",
    "- 5 Charts conveying the different types of flight delay\n",
    "\n",
    "Mapping to the respective Dash HTML tags:\n",
    "\n",
    "- Title added using **html.H1()** tag\n",
    "- Layout division added using **html.Div()** and input component added using **dcc.Input()** tag inside the layout division.\n",
    "- 5 charts split into three segments. Each segment has a layout division added using **html.Div()** and chart added using **dcc.Graph()** tag inside the layout division."
   ]
  },
  {
   "cell_type": "code",
   "execution_count": 32,
   "id": "a3f171a0-af0a-4971-a61d-f4295540862b",
   "metadata": {},
   "outputs": [],
   "source": [
    "# Create a dash application\n",
    "app = dash.Dash(__name__)\n",
    "\n",
    "# Build dash app layout\n",
    "app.layout = html.Div(children=[html.H1('Flight Delay Time Statistics', \n",
    "                                        style={'textAlign': 'center', 'color': '#503D36',\n",
    "                                               'font-size': 30}),\n",
    "                                html.Div([\"Input Year: \", dcc.Input(id='input-year', value='2010', \n",
    "                                                                    type='number', style={'height':'35px', 'font-size': 30}),], \n",
    "                                         style={'font-size': 30}),\n",
    "                                html.Br(),\n",
    "                                html.Br(), \n",
    "                                # Segment 1\n",
    "                                html.Div([\n",
    "                                    html.Div(dcc.Graph(id='carrier-plot')),\n",
    "                                    html.Div(dcc.Graph(id='weather-plot'))\n",
    "                                    ], style={'display': 'flex'}),\n",
    "                                # Segment 2\n",
    "                                html.Div([\n",
    "                                    html.Div(dcc.Graph(id='nas-plot')),\n",
    "                                    html.Div(dcc.Graph(id='security-plot'))\n",
    "                                    ], style={'display': 'flex'}),\n",
    "                                # Segment 3\n",
    "                                html.Div(dcc.Graph(id='late-plot'), style={'width':'65%'})\n",
    "                                ])\n"
   ]
  },
  {
   "cell_type": "markdown",
   "id": "cd5fe9eb-bd30-44a6-adc7-8ac72fc0ff5d",
   "metadata": {},
   "source": [
    "#### Add supporting function"
   ]
  },
  {
   "cell_type": "code",
   "execution_count": 34,
   "id": "719d6bcf-d83e-4a83-825d-b37a36424ce5",
   "metadata": {},
   "outputs": [],
   "source": [
    "\"\"\" Compute_info function description\n",
    "\n",
    "This function takes in airline data and selected year as an input and performs computation for creating charts and plots.\n",
    "\n",
    "Arguments:\n",
    "    airline_data: Input airline data.\n",
    "    entered_year: Input year for which computation needs to be performed.\n",
    "    \n",
    "Returns:\n",
    "    Computed average dataframes for carrier delay, weather delay, NAS delay, security delay, and late aircraft delay.\n",
    "\n",
    "\"\"\"\n",
    "def compute_info(airline_data, entered_year):\n",
    "    # Select data\n",
    "    df =  airline_data[airline_data['Year']==int(entered_year)]\n",
    "    # Compute delay averages\n",
    "    avg_car = df.groupby(['Month','Reporting_Airline'])['CarrierDelay'].mean().reset_index()\n",
    "    avg_weather = df.groupby(['Month','Reporting_Airline'])['WeatherDelay'].mean().reset_index()\n",
    "    avg_NAS = df.groupby(['Month','Reporting_Airline'])['NASDelay'].mean().reset_index()\n",
    "    avg_sec = df.groupby(['Month','Reporting_Airline'])['SecurityDelay'].mean().reset_index()\n",
    "    avg_late = df.groupby(['Month','Reporting_Airline'])['LateAircraftDelay'].mean().reset_index()\n",
    "    return avg_car, avg_weather, avg_NAS, avg_sec, avg_late\n",
    "    "
   ]
  },
  {
   "cell_type": "markdown",
   "id": "1e0dae01-f056-49ea-89ac-9e1c04ec99a6",
   "metadata": {},
   "source": [
    "#### Add the application callback function"
   ]
  },
  {
   "cell_type": "code",
   "execution_count": 37,
   "id": "935c8bc1-aca8-4283-aacc-ff864f5f5f96",
   "metadata": {},
   "outputs": [],
   "source": [
    "\"\"\"Callback Function\n",
    "\n",
    "Function that returns fugures using the provided input year.\n",
    "\n",
    "Arguments:\n",
    "\n",
    "    entered_year: Input year provided by the user.\n",
    "    \n",
    "Returns:\n",
    "\n",
    "    List of figures computed using the provided helper function `compute_info`.\n",
    "\"\"\"\n",
    "# Callback decorator\n",
    "@app.callback( [\n",
    "               Output(component_id='carrier-plot', component_property='figure'),\n",
    "               Output(component_id='weather-plot', component_property='figure'),\n",
    "               Output(component_id='nas-plot', component_property='figure'),\n",
    "               Output(component_id='security-plot', component_property='figure'),\n",
    "               Output(component_id='late-plot', component_property='figure')\n",
    "               ],\n",
    "               Input(component_id='input-year', component_property='value'))\n",
    "# Computation to callback function and return graph\n",
    "def get_graph(entered_year):\n",
    "    \n",
    "    # Compute required information for creating graph from the data\n",
    "    avg_car, avg_weather, avg_NAS, avg_sec, avg_late = compute_info(airline_data, entered_year)\n",
    "            \n",
    "    # Line plot for carrier delay\n",
    "    carrier_fig = px.line(avg_car, x='Month', y='CarrierDelay', color='Reporting_Airline', title='Average carrrier delay time (minutes) by airline')\n",
    "    # Line plot for weather delay\n",
    "    weather_fig = px.line(avg_weather, x='Month', y='WeatherDelay', color='Reporting_Airline', title='Average weather delay time (minutes) by airline')\n",
    "    # Line plot for nas delay\n",
    "    nas_fig = px.line(avg_NAS, x='Month', y='NASDelay', color='Reporting_Airline', title='Average NAS delay time (minutes) by airline')\n",
    "    # Line plot for security delay\n",
    "    sec_fig = px.line(avg_sec, x='Month', y='SecurityDelay', color='Reporting_Airline', title='Average security delay time (minutes) by airline')\n",
    "    # Line plot for late aircraft delay\n",
    "    late_fig = px.line(avg_late, x='Month', y='LateAircraftDelay', color='Reporting_Airline', title='Average late aircraft delay time (minutes) by airline')\n",
    "            \n",
    "    return[carrier_fig, weather_fig, nas_fig, sec_fig, late_fig]\n"
   ]
  },
  {
   "cell_type": "code",
   "execution_count": 25,
   "id": "b9c5aa81-23d5-421d-9852-ac85f7e4625a",
   "metadata": {},
   "outputs": [
    {
     "data": {
      "text/html": [
       "\n",
       "        <iframe\n",
       "            width=\"100%\"\n",
       "            height=\"650\"\n",
       "            src=\"http://127.0.0.1:8050/\"\n",
       "            frameborder=\"0\"\n",
       "            allowfullscreen\n",
       "            \n",
       "        ></iframe>\n",
       "        "
      ],
      "text/plain": [
       "<IPython.lib.display.IFrame at 0x1501db710>"
      ]
     },
     "metadata": {},
     "output_type": "display_data"
    }
   ],
   "source": [
    "# Run the app\n",
    "if __name__ == '__main__':\n",
    "    app.run()"
   ]
  },
  {
   "cell_type": "markdown",
   "id": "5dedb2fe-6b78-4652-a70c-2ebddcb4596f",
   "metadata": {},
   "source": [
    "To present the chart clearly:\n",
    "open link http://127.0.0.1:8051\n",
    "(change host and port as needed)"
   ]
  },
  {
   "cell_type": "code",
   "execution_count": 39,
   "id": "bad92709-2fc9-4b5a-8390-2123f6e64cdc",
   "metadata": {},
   "outputs": [
    {
     "data": {
      "text/html": [
       "\n",
       "        <iframe\n",
       "            width=\"100%\"\n",
       "            height=\"650\"\n",
       "            src=\"http://127.0.0.1:8051/\"\n",
       "            frameborder=\"0\"\n",
       "            allowfullscreen\n",
       "            \n",
       "        ></iframe>\n",
       "        "
      ],
      "text/plain": [
       "<IPython.lib.display.IFrame at 0x168641490>"
      ]
     },
     "metadata": {},
     "output_type": "display_data"
    }
   ],
   "source": [
    "# Run Dash app (launches in browser)\n",
    "app.run(debug=True, use_reloader=False, host='127.0.0.1', port=8051)"
   ]
  },
  {
   "cell_type": "code",
   "execution_count": null,
   "id": "21379aa5-e958-4309-aae4-fdec2db538bc",
   "metadata": {},
   "outputs": [],
   "source": []
  },
  {
   "cell_type": "code",
   "execution_count": null,
   "id": "2135d603-5199-41f3-8b3e-7e5c93580748",
   "metadata": {},
   "outputs": [],
   "source": []
  }
 ],
 "metadata": {
  "kernelspec": {
   "display_name": "Python 3 (ipykernel)",
   "language": "python",
   "name": "python3"
  },
  "language_info": {
   "codemirror_mode": {
    "name": "ipython",
    "version": 3
   },
   "file_extension": ".py",
   "mimetype": "text/x-python",
   "name": "python",
   "nbconvert_exporter": "python",
   "pygments_lexer": "ipython3",
   "version": "3.12.4"
  }
 },
 "nbformat": 4,
 "nbformat_minor": 5
}
